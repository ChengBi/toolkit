{
 "cells": [
  {
   "cell_type": "code",
   "execution_count": 1,
   "metadata": {
    "collapsed": true
   },
   "outputs": [],
   "source": [
    "import numpy as np\n",
    "import tensorflow as tf"
   ]
  },
  {
   "cell_type": "code",
   "execution_count": 41,
   "metadata": {
    "collapsed": true
   },
   "outputs": [],
   "source": [
    "class lstm_layer():\n",
    "    \n",
    "    def __init__(self, n_units):\n",
    "        \n",
    "#         inputs_shape = inputs.shape\n",
    "#         n_step = inputs_shape[0]\n",
    "#         n_units = inputs_shape[1]\n",
    "        \n",
    "        Wf = tf.Variable(self.param([n_units, n_units]), tf.float32)\n",
    "        Bf = tf.Variable(self.param([n_units]), tf.float32)\n",
    "        \n",
    "        Wi = tf.Variable(self.param([n_units, n_units]), tf.float32)\n",
    "        Bi = tf.Variable(self.param([n_units]), tf.float32)\n",
    "        \n",
    "        Wc = tf.Variable(self.param([n_units, n_units]), tf.float32)\n",
    "        Bc = tf.Variable(self.param([n_units]), tf.float32)\n",
    "        \n",
    "        Wo = tf.Variable(self.param([n_units, n_units]), tf.float32)\n",
    "        Bo = tf.Variable(self.param([n_units]), tf.float32)\n",
    "        \n",
    "        C = tf.Variable(self.param([1, n_units]), tf.float32)\n",
    "        H = tf.Variable(self.param([1, n_units]), tf.float32)\n",
    "        \n",
    "        self.params = {\n",
    "            'Wf': Wf,\n",
    "            'Bf': Bf,\n",
    "            'Wi': Wi,\n",
    "            'Bi': Bi,\n",
    "            'Wc': Wc,\n",
    "            'Bc': Bc,\n",
    "            'Wo': Wo,\n",
    "            'Bo': Bo,\n",
    "        }\n",
    "        self.outputs = {\n",
    "            'cell': C,\n",
    "            'states': H\n",
    "        }\n",
    "        self.shape = {\n",
    "#             'step_size': n_step,\n",
    "            'units_size': n_units\n",
    "        }\n",
    "        \n",
    "    def run(self, inputs):\n",
    "        outs = []\n",
    "        for data in inputs:\n",
    "            ft = tf.sigmoid(tf.matmul(self.outputs['states'], self.params['Wf'])+tf.matmul(data.reshape([1,-1]), self.params['Wf'])+self.params['Bf'])\n",
    "            it = tf.sigmoid(tf.matmul(self.outputs['states'], self.params['Wi'])+tf.matmul(data.reshape([1,-1]), self.params['Wi'])+self.params['Bi'])\n",
    "            ct = tf.tanh(tf.matmul(self.outputs['states'], self.params['Wc'])+tf.matmul(data.reshape([1,-1]), self.params['Wc'])+self.params['Bc'])\n",
    "            self.outputs['cell'] = tf.multiply(ft, self.outputs['cell']) + tf.multiply(it, ct)\n",
    "            ot = tf.sigmoid(tf.matmul(self.outputs['states'], self.params['Wo'])+tf.matmul(data.reshape([1,-1]), self.params['Wo'])+self.params['Bo'])\n",
    "            self.outputs['states'] = tf.multiply(ot, tf.tanh(self.outputs['cell']))\n",
    "            outs.append(self.outputs['states'])\n",
    "        return outs, self.outputs['cell']    \n",
    "        \n",
    "    def param(self, shape):\n",
    "        return tf.truncated_normal(shape)"
   ]
  },
  {
   "cell_type": "code",
   "execution_count": 40,
   "metadata": {},
   "outputs": [
    {
     "name": "stdout",
     "output_type": "stream",
     "text": [
      "<module 'tensorflow' from 'C:\\\\Users\\\\cheng.bi\\\\AppData\\\\Local\\\\Continuum\\\\Anaconda3\\\\lib\\\\site-packages\\\\tensorflow\\\\__init__.py'>\n",
      "Tensor(\"Sigmoid_43:0\", shape=(1, 100), dtype=float32)\n",
      "Tensor(\"Tanh_21:0\", shape=(1, 100), dtype=float32)\n",
      "Tensor(\"Sigmoid_44:0\", shape=(1, 100), dtype=float32)\n",
      "Tensor(\"add_122:0\", shape=(1, 100), dtype=float32)\n",
      "Tensor(\"Mul_32:0\", shape=(1, 100), dtype=float32)\n"
     ]
    }
   ],
   "source": [
    "data = np.zeros((1000, 100))\n",
    "labels = np.random(1000)\n",
    "graph = tf.Graph()\n",
    "with graph.as_default():\n",
    "    \n",
    "    input_placeholder = tf.placeholder(tf.float32, [None, 100])\n",
    "    \n",
    "    lstm = lstm_layer(100)\n",
    "    lstm.run(input_placeholder)"
   ]
  },
  {
   "cell_type": "code",
   "execution_count": null,
   "metadata": {
    "collapsed": true
   },
   "outputs": [],
   "source": []
  }
 ],
 "metadata": {
  "kernelspec": {
   "display_name": "Python 3",
   "language": "python",
   "name": "python3"
  },
  "language_info": {
   "codemirror_mode": {
    "name": "ipython",
    "version": 3
   },
   "file_extension": ".py",
   "mimetype": "text/x-python",
   "name": "python",
   "nbconvert_exporter": "python",
   "pygments_lexer": "ipython3",
   "version": "3.6.1"
  }
 },
 "nbformat": 4,
 "nbformat_minor": 2
}
